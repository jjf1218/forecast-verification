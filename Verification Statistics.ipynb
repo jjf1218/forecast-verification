{
 "cells": [
  {
   "cell_type": "markdown",
   "metadata": {},
   "source": [
    "# Looking at Types of Forecast Verifications\n",
    "\n",
    "This Notebook attempts to look at different ways to measure the skill of a forecaster by lookng at different verification statstics. For now, we will start with different methods for dichotomous (yes/no) forecasts.\n",
    "\n",
    "Please see http://www.cawcr.gov.au/projects/verification/ for more information on verification for all types of forecasts."
   ]
  },
  {
   "cell_type": "code",
   "execution_count": 1,
   "metadata": {},
   "outputs": [
    {
     "name": "stdout",
     "output_type": "stream",
     "text": [
      "Box A in your contingency table:56\n",
      "Box B in your contingency table:76\n",
      "Box C in your contingency table:34\n",
      "Box D in your contingency table:200\n",
      "Your POD is 0.424242\n",
      "Your FAR is 0.377778\n",
      "Your CSI is 0.337349\n",
      "Your POFD is 0.145299\n",
      "Your HSS is 0.299729\n"
     ]
    }
   ],
   "source": [
    "\"\"\"\n",
    "A script looking at some basic verification statistics for contingency tables.\n",
    "\"\"\"\n",
    "\n",
    "a = float(raw_input(\"Box A in your contingency table:\"))\n",
    "#Perhaps more professionally, this line of code could be \"a = float(raw_input(\"Number of Hits:\"))\n",
    "b = float(raw_input(\"Box B in your contingency table:\"))\n",
    "#Similarily, this line of code could be \"b = float(raw_input(\"Number of Misses:\"))\n",
    "c = float(raw_input(\"Box C in your contingency table:\"))\n",
    "#Similarily, this line of code could be \"c = float(raw_input(\"Number of False Alarms:\"))\n",
    "d = float(raw_input(\"Box D in your contingency table:\"))\n",
    "#Similarily, this line of code could be \"d = float(raw_input(\"Number of Correct Negatives:\"))\n",
    "\n",
    "# This parameter is needed for the Heidke Skill Score\n",
    "e = (((a+b)*(a+c)) + ((c+d)*(b+d)))/(a+b+c+d)\n",
    "\n",
    "pod = a/(a+b)\n",
    "far = c/(a+c)\n",
    "csi = a/(a+b+c)\n",
    "pofd = c/(c+d)\n",
    "hss = (a+d-e)/(a+b+c+d-e)\n",
    "\n",
    "print \"Your POD is %f\" % pod\n",
    "print \"Your FAR is %f\" % far\n",
    "print \"Your CSI is %f\" % csi\n",
    "print \"Your POFD is %f\" % pofd\n",
    "print \"Your HSS is %f\" % hss\n"
   ]
  },
  {
   "cell_type": "code",
   "execution_count": null,
   "metadata": {
    "collapsed": true
   },
   "outputs": [],
   "source": []
  }
 ],
 "metadata": {
  "kernelspec": {
   "display_name": "Python 2",
   "language": "python",
   "name": "python2"
  },
  "language_info": {
   "codemirror_mode": {
    "name": "ipython",
    "version": 2
   },
   "file_extension": ".py",
   "mimetype": "text/x-python",
   "name": "python",
   "nbconvert_exporter": "python",
   "pygments_lexer": "ipython2",
   "version": "2.7.14"
  }
 },
 "nbformat": 4,
 "nbformat_minor": 2
}
