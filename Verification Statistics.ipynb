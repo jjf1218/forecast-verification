{
 "cells": [
  {
   "cell_type": "markdown",
   "metadata": {},
   "source": [
    "# Looking at Types of Forecast Verifications\n",
    "\n",
    "This Notebook attempts to look at different ways to measure the skill of a forecaster by lookng at different verification statstics. For now, we will start with different methods for dichotomous (yes/no) forecasts.\n",
    "\n",
    "Please see http://www.cawcr.gov.au/projects/verification/ for more information on verification for all types of forecasts."
   ]
  },
  {
   "cell_type": "markdown",
   "metadata": {},
   "source": [
    "## Dichotomous Forecasts\n",
    "\n",
    "Simply put, these are forecasts that are either \"yes\" or \"no\". These types of forecasts include whether or not a tornado will form, whether or not it will rain, whether or not fog will be present before 10:00 am, etc. The possibilities are endless. The forecaster only has two options, \"yes, this event will happen\" or  \"no, this event will not happen.\" Similarly, the verification has only two options: \"yes, this event happened\" or \"no, this event did not happen.\" Recalling basic probability dictates that there are four options, which can be organized in what is known as a contingency table:\n",
    "\n",
    "|              |  Forecasted Yes |     Forecasted No    |\n",
    "|--------------|-----------------|----------------------|\n",
    "| Verified Yes |     A: Hits     |       B: Misses      |\n",
    "|  Verified No | C: False Alarms | D: Correct Negatives |\n",
    "\n",
    "When a forecaster correctly predicts \"yes\" to an event happening, this is known as a \"hit.\" When a forecaster predicts \"no\" to an event happening, this is known as a \"miss.\" If a forecaster says an event will happen, but the event doesn't happen, this is termed a \"false alarm.\" The most frequent category for a forecaster is when a forecaster says an event will not happen, and the event does not happen; this is a \"correct negative.\"\n",
    "\n",
    "\n",
    "\n",
    "With this information in place, different verification scores can be calculated to \"measure\" how well a forecaster predicts certain events happening. Of course, these calculations are basic arithmetic, so they can be done with pencil, a paper and a calculator. But programming makes it easier to quickly look at multiple different scores at once; and should you use these emtrics to compare forecasters against one another, the calculations start to add up.\n",
    "\n",
    "We will start with a few basic definitions and scores in the next section.\n"
   ]
  },
  {
   "cell_type": "markdown",
   "metadata": {},
   "source": [
    "### Some Basic Dichotomous Forecast Scores\n",
    "\n",
    "#### Accuracy\n",
    "\n",
    "Perhaps intuitive, accuracy looks at how many times a forecaster's prediction matched with the observation.\n",
    "\n",
    "$$Accuracy = \\frac{A+D}{A+B+C+D}$$\n",
    "\n",
    "This can be a misleading statistic, however, since it is influenced by the most common category, \"correct negatives.\" This is especially true for rarer weather events, such as fog, where a \"correct negative\" can be common. The range for accuracy is 0 to 1, 1 being a perfect score.\n",
    "\n",
    "#### Bias\n",
    "\n",
    "The \n",
    "\n",
    "#### Probability of Detection\n",
    "\n",
    "\n",
    "\n",
    "#### False Alarm Ratio\n",
    "\n",
    "\n",
    "#### Critical Success Index\n",
    "\n",
    "\n",
    "#### Probability of False Detection"
   ]
  },
  {
   "cell_type": "code",
   "execution_count": 8,
   "metadata": {},
   "outputs": [
    {
     "name": "stdout",
     "output_type": "stream",
     "text": [
      "Forecaster's Name:hfg\n",
      "Number of Hits (A):345\n",
      "Number of Misses (B):45\n",
      "Number of False Alarms (C):2\n",
      "Number of Correct Negatives (D):2555\n",
      "Verification Results for hfg\n",
      "Your accuracy is 98.41%\n",
      "Your bias is 2.00\n",
      "Your POD is 0.88\n",
      "Your FAR is 0.01\n",
      "Your CSI is 0.88\n",
      "Your POFD is 0.00\n"
     ]
    }
   ],
   "source": [
    "\"\"\"\n",
    "A script looking at some basic verification statistics for dichotomous forecasts.\n",
    "\n",
    "(C) 2018 Joseph Fogarty\n",
    "\"\"\"\n",
    "#Input a forecasters data.\n",
    "f = str(raw_input(\"Forecaster's Name:\"))\n",
    "a = float(raw_input(\"Number of Hits (A):\"))\n",
    "b = float(raw_input(\"Number of Misses (B):\"))\n",
    "c = float(raw_input(\"Number of False Alarms (C):\"))\n",
    "d = float(raw_input(\"Number of Correct Negatives (D):\"))\n",
    "total = a+b+c+d\n",
    "\n",
    "# Calculation of the different parameters\n",
    "acc = ((a+d)/total)*100\n",
    "bias = 2\n",
    "pod = a/(a+b)\n",
    "far = c/(a+c)\n",
    "csi = a/(a+b+c)\n",
    "pofd = c/(c+d)\n",
    "\n",
    "# Print the results\n",
    "print \"Verification Results for %s\" % f\n",
    "print \"Your accuracy is %.2f%%\" % acc\n",
    "print \"Your bias is %.2f\" % bias\n",
    "print \"Your POD is %.2f\" % pod\n",
    "print \"Your FAR is %.2f\" % far\n",
    "print \"Your CSI is %.2f\" % csi\n",
    "print \"Your POFD is %.2f\" % pofd"
   ]
  },
  {
   "cell_type": "code",
   "execution_count": 4,
   "metadata": {},
   "outputs": [
    {
     "name": "stdout",
     "output_type": "stream",
     "text": [
      "Forecaster's Name:Joey\n",
      "Number of Hits (A):67\n",
      "Number of Misses (B):67\n",
      "Number of False Alarms (C):67\n",
      "Number of Correct Negatives (D):67\n",
      "Verification Results for Joey\n",
      "Your POD is 0.500000\n",
      "Your FAR is 0.500000\n",
      "Your CSI is 0.333333\n",
      "Your POFD is 0.500000\n",
      "Your HSS is 0.000000\n"
     ]
    }
   ],
   "source": [
    "\"\"\"\n",
    "A script looking at some basic verification statistics for contingency tables.\n",
    "\n",
    "(C) 2018 Joseph Fogarty\n",
    "\"\"\"\n",
    "#Input a forecasters data.\n",
    "f = str(raw_input(\"Forecaster's Name:\"))\n",
    "a = float(raw_input(\"Number of Hits (A):\"))\n",
    "b = float(raw_input(\"Number of Misses (B):\"))\n",
    "c = float(raw_input(\"Number of False Alarms (C):\"))\n",
    "d = float(raw_input(\"Number of Correct Negatives (D):\"))\n",
    "\n",
    "# This parameter is needed for the Heidke Skill Score\n",
    "e = (((a+b)*(a+c)) + ((c+d)*(b+d)))/(a+b+c+d)\n",
    "\n",
    "# Calculation of the different parameters\n",
    "hss = (a+d-e)/(a+b+c+d-e)\n",
    "\n",
    "# Print the results\n",
    "print \"Verification Results for %s\" % f\n",
    "print \"Your HSS is %f\" % hss\n"
   ]
  },
  {
   "cell_type": "code",
   "execution_count": null,
   "metadata": {
    "collapsed": true
   },
   "outputs": [],
   "source": []
  }
 ],
 "metadata": {
  "kernelspec": {
   "display_name": "Python 2",
   "language": "python",
   "name": "python2"
  },
  "language_info": {
   "codemirror_mode": {
    "name": "ipython",
    "version": 2
   },
   "file_extension": ".py",
   "mimetype": "text/x-python",
   "name": "python",
   "nbconvert_exporter": "python",
   "pygments_lexer": "ipython2",
   "version": "2.7.14"
  }
 },
 "nbformat": 4,
 "nbformat_minor": 2
}
